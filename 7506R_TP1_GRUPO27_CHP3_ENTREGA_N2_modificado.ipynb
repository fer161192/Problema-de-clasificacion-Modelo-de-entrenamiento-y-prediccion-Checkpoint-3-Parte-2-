{
  "cells": [
    {
      "cell_type": "markdown",
      "source": [
        "#Version SVM"
      ],
      "metadata": {
        "id": "TSgTimBCIYiV"
      }
    },
    {
      "cell_type": "markdown",
      "source": [
        "##Librerias a utilizar"
      ],
      "metadata": {
        "id": "8Sug3gW4IfXJ"
      }
    },
    {
      "cell_type": "code",
      "execution_count": 1,
      "metadata": {
        "id": "nIqcG7RtfvDy"
      },
      "outputs": [],
      "source": [
        "import pandas as pd\n",
        "import sklearn as sk\n",
        "import seaborn as sns\n",
        "import matplotlib.pyplot as plt\n",
        "import numpy as np\n",
        "\n",
        "from sklearn.datasets import load_iris\n",
        "from sklearn import preprocessing\n",
        "from sklearn.model_selection import train_test_split\n",
        "from sklearn.svm import SVC\n",
        "from sklearn.datasets import make_classification\n",
        "from sklearn.metrics import confusion_matrix, classification_report\n",
        "\n",
        "dataset_hotels_test = pd.read_csv('https://github.com/joeldevel/data_tp1_odd/blob/main/hotels_test.csv?raw=true')\n",
        "dataset_hotels_train = pd.read_csv('https://github.com/joeldevel/data_tp1_odd/blob/main/hotels_train.csv?raw=true')"
      ]
    },
    {
      "cell_type": "code",
      "execution_count": 2,
      "metadata": {
        "id": "FIXOADutf66D"
      },
      "outputs": [],
      "source": [
        "def metricas(y_pred,y_test):\n",
        "\n",
        "  print(classification_report(y_test,y_pred))\n",
        "\n",
        "  cm = confusion_matrix(y_test,y_pred)\n",
        "  sns.heatmap(cm, cmap='Blues',annot=True,fmt='g')\n",
        "  plt.xlabel('Predicted')\n",
        "  plt.ylabel('True')"
      ]
    },
    {
      "cell_type": "code",
      "execution_count": 3,
      "metadata": {
        "id": "zu-POWdjmZss"
      },
      "outputs": [],
      "source": [
        "dataset_hotels_test_id = dataset_hotels_test['id'].copy()"
      ]
    },
    {
      "cell_type": "markdown",
      "metadata": {
        "id": "PS2C1osRlP8A"
      },
      "source": [
        "## Preprocesamiento"
      ]
    },
    {
      "cell_type": "markdown",
      "metadata": {
        "id": "n6rmsOFLmQBm"
      },
      "source": [
        "###Hago relleno de valores faltantes"
      ]
    },
    {
      "cell_type": "code",
      "execution_count": 4,
      "metadata": {
        "id": "gK_73KN5mR3p"
      },
      "outputs": [],
      "source": [
        "dataset_hotels_train['agent'] = dataset_hotels_train['agent'].fillna(0).astype('int').astype('str')\n",
        "dataset_hotels_test['agent'] = dataset_hotels_test['agent'].fillna(0).astype('int').astype('str')"
      ]
    },
    {
      "cell_type": "code",
      "execution_count": 5,
      "metadata": {
        "id": "EHpHH81HmdIk"
      },
      "outputs": [],
      "source": [
        "dataset_hotels_train.drop(['meal', 'is_repeated_guest','id','previous_bookings_not_canceled'], axis='columns', inplace=True)\n",
        "dataset_hotels_test.drop(['meal', 'is_repeated_guest','id','previous_bookings_not_canceled'], axis='columns', inplace=True)"
      ]
    },
    {
      "cell_type": "code",
      "execution_count": 6,
      "metadata": {
        "id": "7QrVQH2jmdLk"
      },
      "outputs": [],
      "source": [
        "dataset_hotels_train['cant_personas'] = dataset_hotels_train['children'].fillna(0) + dataset_hotels_train['adults'].fillna(0) + dataset_hotels_train['babies'].fillna(0)\n",
        "dataset_hotels_train.drop(['children', 'adults','babies'], axis='columns', inplace=True)\n",
        "dataset_hotels_test['cant_personas'] = dataset_hotels_test['children'].fillna(0) + dataset_hotels_test['adults'].fillna(0) + dataset_hotels_test['babies'].fillna(0)\n",
        "dataset_hotels_test.drop(['children', 'adults','babies'], axis='columns', inplace=True)"
      ]
    },
    {
      "cell_type": "code",
      "execution_count": 7,
      "metadata": {
        "id": "wuz7jbgnmdOQ"
      },
      "outputs": [],
      "source": [
        "dataset_hotels_train['company'] = dataset_hotels_train['company'].fillna('ninguno')\n",
        "dataset_hotels_test['company'] = dataset_hotels_test['company'].fillna('ninguno')"
      ]
    },
    {
      "cell_type": "code",
      "execution_count": 8,
      "metadata": {
        "id": "j5i4s8tUmy-9"
      },
      "outputs": [],
      "source": [
        "dataset_hotels_train['agent'] = dataset_hotels_train['agent'].fillna('desconocida')\n",
        "dataset_hotels_test['agent'] = dataset_hotels_test['agent'].fillna('desconocida')"
      ]
    },
    {
      "cell_type": "markdown",
      "metadata": {
        "id": "bfRjktznriEn"
      },
      "source": [
        "### Convierto categorias a numericas"
      ]
    },
    {
      "cell_type": "code",
      "execution_count": 9,
      "metadata": {
        "id": "4bpUT66MmdW4"
      },
      "outputs": [],
      "source": [
        "dataset_hotels_train['hotel'] = pd.Categorical(dataset_hotels_train['hotel']).codes\n",
        "dataset_hotels_train['country'] = pd.Categorical(dataset_hotels_train['country']).codes\n",
        "dataset_hotels_train['market_segment'] = pd.Categorical(dataset_hotels_train['market_segment']).codes\n",
        "dataset_hotels_train['distribution_channel'] = pd.Categorical(dataset_hotels_train['distribution_channel']).codes\n",
        "dataset_hotels_train['reserved_room_type'] = pd.Categorical(dataset_hotels_train['reserved_room_type']).codes\n",
        "dataset_hotels_train['assigned_room_type'] = pd.Categorical(dataset_hotels_train['assigned_room_type']).codes\n",
        "dataset_hotels_train['deposit_type'] = pd.Categorical(dataset_hotels_train['deposit_type']).codes\n",
        "dataset_hotels_train['agent'] = pd.Categorical(dataset_hotels_train['agent']).codes\n",
        "dataset_hotels_train['company'] = pd.Categorical(dataset_hotels_train['company']).codes\n",
        "dataset_hotels_train['customer_type'] = pd.Categorical(dataset_hotels_train['customer_type']).codes\n",
        "dataset_hotels_train['reservation_status_date'] = pd.Categorical(dataset_hotels_train['reservation_status_date']).codes\n",
        "dataset_hotels_train['arrival_date_month'] = pd.Categorical(dataset_hotels_train['arrival_date_month']).codes"
      ]
    },
    {
      "cell_type": "code",
      "execution_count": 10,
      "metadata": {
        "id": "EUmyudwQrw-b"
      },
      "outputs": [],
      "source": [
        "dataset_hotels_test['hotel'] = pd.Categorical(dataset_hotels_test['hotel']).codes\n",
        "dataset_hotels_test['country'] = pd.Categorical(dataset_hotels_test['country']).codes\n",
        "dataset_hotels_test['market_segment'] = pd.Categorical(dataset_hotels_test['market_segment']).codes\n",
        "dataset_hotels_test['distribution_channel'] = pd.Categorical(dataset_hotels_test['distribution_channel']).codes\n",
        "dataset_hotels_test['reserved_room_type'] = pd.Categorical(dataset_hotels_test['reserved_room_type']).codes\n",
        "dataset_hotels_test['assigned_room_type'] = pd.Categorical(dataset_hotels_test['assigned_room_type']).codes\n",
        "dataset_hotels_test['deposit_type'] = pd.Categorical(dataset_hotels_test['deposit_type']).codes\n",
        "dataset_hotels_test['agent'] = pd.Categorical(dataset_hotels_test['agent']).codes\n",
        "dataset_hotels_test['company'] = pd.Categorical(dataset_hotels_test['company']).codes\n",
        "dataset_hotels_test['customer_type'] = pd.Categorical(dataset_hotels_test['customer_type']).codes\n",
        "dataset_hotels_test['reservation_status_date'] = pd.Categorical(dataset_hotels_test['reservation_status_date']).codes\n",
        "dataset_hotels_test['arrival_date_month'] = pd.Categorical(dataset_hotels_test['arrival_date_month']).codes"
      ]
    },
    {
      "cell_type": "markdown",
      "metadata": {
        "id": "hDnowWgilVoZ"
      },
      "source": [
        "##Entrenamiento y predicción"
      ]
    },
    {
      "cell_type": "code",
      "execution_count": 11,
      "metadata": {
        "id": "pB8a_obhgZQk"
      },
      "outputs": [],
      "source": [
        "#Creo conjuntos de train y test\n",
        "x_train, x_test, y_train, y_test = train_test_split(dataset_hotels_train.drop(['is_canceled'], axis='columns', inplace=False).values, dataset_hotels_train['is_canceled'].values, test_size=0.2, random_state=0)\n",
        "\n"
      ]
    },
    {
      "cell_type": "code",
      "execution_count": 12,
      "metadata": {
        "id": "cmv1_bTBjP-9"
      },
      "outputs": [],
      "source": [
        "#Armo una version escalada con minmax (media=0 , var=1  )\n",
        "min_max_scaler = preprocessing.MinMaxScaler()\n",
        "x_train_minmax = min_max_scaler.fit_transform(x_train)\n",
        "x_test_minmax  = min_max_scaler.transform(x_test)\n",
        "\n",
        "#Armo una version estandarizada\n",
        "stand_scaler = preprocessing.StandardScaler()\n",
        "x_train_norm = stand_scaler.fit_transform(x_train)\n",
        "x_test_norm=stand_scaler.transform(x_test)"
      ]
    },
    {
      "cell_type": "code",
      "source": [
        "from sklearn.model_selection import GridSearchCV\n",
        "\n",
        "# Split the data into features and target\n",
        "X = dataset_hotels_train.drop(['is_canceled'], axis='columns', inplace=False)\n",
        "y = dataset_hotels_train['is_canceled']\n",
        "\n",
        "# Define the parameter grid for SVM\n",
        "param_grid = {\n",
        "    # 'C': [0.1, 1, 10],\n",
        "    # 'kernel': ['linear', 'rbf'],\n",
        "    # 'gamma': [0.01, 0.1, 1]\n",
        "    'C': [1],\n",
        "    'kernel': ['linear'],\n",
        "    'gamma': [1]\n",
        "}\n",
        "\n",
        "# Create the SVM classifier\n",
        "svm = SVC()\n",
        "\n",
        "# Perform cross-validation with SVM and different parameter combinations\n",
        "grid_search = GridSearchCV(estimator=svm, param_grid=param_grid, cv=5)\n",
        "grid_search.fit(X, y)\n",
        "\n",
        "# Get the best parameters and best score\n",
        "best_params = grid_search.best_params_\n",
        "best_score = grid_search.best_score_\n",
        "\n",
        "# Print the best parameters and best score\n",
        "print(\"Best Parameters:\", best_params)\n",
        "print(\"Best Score:\", best_score)"
      ],
      "metadata": {
        "colab": {
          "base_uri": "https://localhost:8080/"
        },
        "id": "laCEiHEIHNbh",
        "outputId": "5479f120-7693-4540-a2f8-8d6bf78b0f88"
      },
      "execution_count": 13,
      "outputs": [
        {
          "output_type": "stream",
          "name": "stdout",
          "text": [
            "Best Parameters: {'C': 1, 'gamma': 1, 'kernel': 'linear'}\n",
            "Best Score: 0.8197953507077905\n"
          ]
        }
      ]
    },
    {
      "cell_type": "code",
      "source": [
        "print(grid_search.best_estimator_)"
      ],
      "metadata": {
        "colab": {
          "base_uri": "https://localhost:8080/"
        },
        "id": "9T3VqSX8arMJ",
        "outputId": "96d27d73-6bd1-48c3-c7d0-0129e8ec59e5"
      },
      "execution_count": 14,
      "outputs": [
        {
          "output_type": "stream",
          "name": "stdout",
          "text": [
            "SVC(C=1, gamma=1, kernel='linear')\n"
          ]
        }
      ]
    },
    {
      "cell_type": "code",
      "source": [
        "y_predict_train = grid_search.predict(x_test)"
      ],
      "metadata": {
        "colab": {
          "base_uri": "https://localhost:8080/"
        },
        "id": "PkCHdg16a9kt",
        "outputId": "e9ab960c-b27c-470b-8ae1-3afad2f7cef2"
      },
      "execution_count": 15,
      "outputs": [
        {
          "output_type": "stream",
          "name": "stderr",
          "text": [
            "/usr/local/lib/python3.10/dist-packages/sklearn/base.py:439: UserWarning: X does not have valid feature names, but SVC was fitted with feature names\n",
            "  warnings.warn(\n"
          ]
        }
      ]
    },
    {
      "cell_type": "code",
      "source": [
        "from sklearn.metrics import confusion_matrix, classification_report , f1_score\n",
        "print('F1-Score: {}'.format(f1_score(y_test, y_predict_train, average='binary'))) #binary considera la clase positiva por defecto 1\n",
        "\n",
        "cm = confusion_matrix(y_test,y_predict_train)\n",
        "sns.heatmap(cm, cmap='Blues',annot=True,fmt='g')\n",
        "plt.xlabel('Predicted')\n",
        "plt.ylabel('True')"
      ],
      "metadata": {
        "colab": {
          "base_uri": "https://localhost:8080/",
          "height": 484
        },
        "id": "t7X_Tv9ba73T",
        "outputId": "f49e1f88-5fa6-4f12-8502-8559ebd783a3"
      },
      "execution_count": 16,
      "outputs": [
        {
          "output_type": "stream",
          "name": "stdout",
          "text": [
            "F1-Score: 0.8089091369273602\n"
          ]
        },
        {
          "output_type": "execute_result",
          "data": {
            "text/plain": [
              "Text(50.722222222222214, 0.5, 'True')"
            ]
          },
          "metadata": {},
          "execution_count": 16
        },
        {
          "output_type": "display_data",
          "data": {
            "text/plain": [
              "<Figure size 640x480 with 2 Axes>"
            ],
            "image/png": "[encoded data removed]"
          },
          "metadata": {}
        }
      ]
    },
    {
      "cell_type": "code",
      "source": [
        "y_pred = grid_search.predict(dataset_hotels_test)"
      ],
      "metadata": {
        "id": "1s5P8U-tRBpV"
      },
      "execution_count": 17,
      "outputs": []
    },
    {
      "cell_type": "code",
      "source": [
        "grid_search.best_params_"
      ],
      "metadata": {
        "colab": {
          "base_uri": "https://localhost:8080/"
        },
        "id": "BFGeEELyUvX4",
        "outputId": "c52b5d35-1ab0-4193-a6a9-4454ec3ce63a"
      },
      "execution_count": 18,
      "outputs": [
        {
          "output_type": "execute_result",
          "data": {
            "text/plain": [
              "{'C': 1, 'gamma': 1, 'kernel': 'linear'}"
            ]
          },
          "metadata": {},
          "execution_count": 18
        }
      ]
    },
    {
      "cell_type": "code",
      "source": [
        "from joblib import dump, load\n",
        "dump(grid_search, 'svm_cv.joblib')"
      ],
      "metadata": {
        "colab": {
          "base_uri": "https://localhost:8080/"
        },
        "id": "6ZoFqrCUUkRX",
        "outputId": "b4716e1f-701c-4cd8-d6ab-0da66cedbc07"
      },
      "execution_count": 19,
      "outputs": [
        {
          "output_type": "execute_result",
          "data": {
            "text/plain": [
              "['svm_cv.joblib']"
            ]
          },
          "metadata": {},
          "execution_count": 19
        }
      ]
    },
    {
      "cell_type": "code",
      "source": [
        "df_prediction = pd.DataFrame(zip(dataset_hotels_test_id,y_pred)).rename(columns={0: \"id\", 1: \"is_canceled\"})\n",
        "df_prediction"
      ],
      "metadata": {
        "colab": {
          "base_uri": "https://localhost:8080/",
          "height": 424
        },
        "id": "gCMyq5uvRt-e",
        "outputId": "4ab0aa10-4901-4998-9440-a0067d712ad8"
      },
      "execution_count": 20,
      "outputs": [
        {
          "output_type": "execute_result",
          "data": {
            "text/plain": [
              "                                         id  is_canceled\n",
              "0      e6d0d58a-ab96-44d3-b28f-85df1cc15f1e            1\n",
              "1      aba9aac2-4495-4645-a60e-90328713c999            1\n",
              "2      b345b5dc-c804-4d77-a39f-1f4e65d1f1ad            0\n",
              "3      ce1b400e-afa1-4946-bdff-004b859eb61c            0\n",
              "4      c4fbec0d-8e2e-4db2-9d4f-a6ccb9f51214            1\n",
              "...                                     ...          ...\n",
              "26530  636ccded-66ad-4538-8006-c0b9f84c6256            0\n",
              "26531  11e19741-bd28-4459-8ea3-184f1664000f            0\n",
              "26532  36a4c7b0-d6b1-4528-93db-311be96ec1c6            1\n",
              "26533  89c85fa5-2b3d-4131-844c-e151a65ca240            1\n",
              "26534  bd4e9eee-f28e-4a53-b4a1-277426efbcee            0\n",
              "\n",
              "[26535 rows x 2 columns]"
            ],
            "text/html": [
              "\n",
              "  <div id=\"df-53d8fea8-dea2-4961-afdb-47ebd4a85e53\" class=\"colab-df-container\">\n",
              "    <div>\n",
              "<style scoped>\n",
              "    .dataframe tbody tr th:only-of-type {\n",
              "        vertical-align: middle;\n",
              "    }\n",
              "\n",
              "    .dataframe tbody tr th {\n",
              "        vertical-align: top;\n",
              "    }\n",
              "\n",
              "    .dataframe thead th {\n",
              "        text-align: right;\n",
              "    }\n",
              "</style>\n",
              "<table border=\"1\" class=\"dataframe\">\n",
              "  <thead>\n",
              "    <tr style=\"text-align: right;\">\n",
              "      <th></th>\n",
              "      <th>id</th>\n",
              "      <th>is_canceled</th>\n",
              "    </tr>\n",
              "  </thead>\n",
              "  <tbody>\n",
              "    <tr>\n",
              "      <th>0</th>\n",
              "      <td>e6d0d58a-ab96-44d3-b28f-85df1cc15f1e</td>\n",
              "      <td>1</td>\n",
              "    </tr>\n",
              "    <tr>\n",
              "      <th>1</th>\n",
              "      <td>aba9aac2-4495-4645-a60e-90328713c999</td>\n",
              "      <td>1</td>\n",
              "    </tr>\n",
              "    <tr>\n",
              "      <th>2</th>\n",
              "      <td>b345b5dc-c804-4d77-a39f-1f4e65d1f1ad</td>\n",
              "      <td>0</td>\n",
              "    </tr>\n",
              "    <tr>\n",
              "      <th>3</th>\n",
              "      <td>ce1b400e-afa1-4946-bdff-004b859eb61c</td>\n",
              "      <td>0</td>\n",
              "    </tr>\n",
              "    <tr>\n",
              "      <th>4</th>\n",
              "      <td>c4fbec0d-8e2e-4db2-9d4f-a6ccb9f51214</td>\n",
              "      <td>1</td>\n",
              "    </tr>\n",
              "    <tr>\n",
              "      <th>...</th>\n",
              "      <td>...</td>\n",
              "      <td>...</td>\n",
              "    </tr>\n",
              "    <tr>\n",
              "      <th>26530</th>\n",
              "      <td>636ccded-66ad-4538-8006-c0b9f84c6256</td>\n",
              "      <td>0</td>\n",
              "    </tr>\n",
              "    <tr>\n",
              "      <th>26531</th>\n",
              "      <td>11e19741-bd28-4459-8ea3-184f1664000f</td>\n",
              "      <td>0</td>\n",
              "    </tr>\n",
              "    <tr>\n",
              "      <th>26532</th>\n",
              "      <td>36a4c7b0-d6b1-4528-93db-311be96ec1c6</td>\n",
              "      <td>1</td>\n",
              "    </tr>\n",
              "    <tr>\n",
              "      <th>26533</th>\n",
              "      <td>89c85fa5-2b3d-4131-844c-e151a65ca240</td>\n",
              "      <td>1</td>\n",
              "    </tr>\n",
              "    <tr>\n",
              "      <th>26534</th>\n",
              "      <td>bd4e9eee-f28e-4a53-b4a1-277426efbcee</td>\n",
              "      <td>0</td>\n",
              "    </tr>\n",
              "  </tbody>\n",
              "</table>\n",
              "<p>26535 rows × 2 columns</p>\n",
              "</div>\n",
              "    <div class=\"colab-df-buttons\">\n",
              "\n",
              "  <div class=\"colab-df-container\">\n",
              "    <button class=\"colab-df-convert\" onclick=\"convertToInteractive('df-53d8fea8-dea2-4961-afdb-47ebd4a85e53')\"\n",
              "            title=\"Convert this dataframe to an interactive table.\"\n",
              "            style=\"display:none;\">\n",
              "\n",
              "  <svg xmlns=\"http://www.w3.org/2000/svg\" height=\"24px\" viewBox=\"0 -960 960 960\">\n",
              "    <path d=\"M120-120v-720h720v720H120Zm60-500h600v-160H180v160Zm220 220h160v-160H400v160Zm0 220h160v-160H400v160ZM180-400h160v-160H180v160Zm440 0h160v-160H620v160ZM180-180h160v-160H180v160Zm440 0h160v-160H620v160Z\"/>\n",
              "  </svg>\n",
              "    </button>\n",
              "\n",
              "  <style>\n",
              "    .colab-df-container {\n",
              "      display:flex;\n",
              "      gap: 12px;\n",
              "    }\n",
              "\n",
              "    .colab-df-convert {\n",
              "      background-color: #E8F0FE;\n",
              "      border: none;\n",
              "      border-radius: 50%;\n",
              "      cursor: pointer;\n",
              "      display: none;\n",
              "      fill: #1967D2;\n",
              "      height: 32px;\n",
              "      padding: 0 0 0 0;\n",
              "      width: 32px;\n",
              "    }\n",
              "\n",
              "    .colab-df-convert:hover {\n",
              "      background-color: #E2EBFA;\n",
              "      box-shadow: 0px 1px 2px rgba(60, 64, 67, 0.3), 0px 1px 3px 1px rgba(60, 64, 67, 0.15);\n",
              "      fill: #174EA6;\n",
              "    }\n",
              "\n",
              "    .colab-df-buttons div {\n",
              "      margin-bottom: 4px;\n",
              "    }\n",
              "\n",
              "    [theme=dark] .colab-df-convert {\n",
              "      background-color: #3B4455;\n",
              "      fill: #D2E3FC;\n",
              "    }\n",
              "\n",
              "    [theme=dark] .colab-df-convert:hover {\n",
              "      background-color: #434B5C;\n",
              "      box-shadow: 0px 1px 3px 1px rgba(0, 0, 0, 0.15);\n",
              "      filter: drop-shadow(0px 1px 2px rgba(0, 0, 0, 0.3));\n",
              "      fill: #FFFFFF;\n",
              "    }\n",
              "  </style>\n",
              "\n",
              "    <script>\n",
              "      const buttonEl =\n",
              "        document.querySelector('#df-53d8fea8-dea2-4961-afdb-47ebd4a85e53 button.colab-df-convert');\n",
              "      buttonEl.style.display =\n",
              "        google.colab.kernel.accessAllowed ? 'block' : 'none';\n",
              "\n",
              "      async function convertToInteractive(key) {\n",
              "        const element = document.querySelector('#df-53d8fea8-dea2-4961-afdb-47ebd4a85e53');\n",
              "        const dataTable =\n",
              "          await google.colab.kernel.invokeFunction('convertToInteractive',\n",
              "                                                    [key], {});\n",
              "        if (!dataTable) return;\n",
              "\n",
              "        const docLinkHtml = 'Like what you see? Visit the ' +\n",
              "          '<a target=\"_blank\" href=https://colab.research.google.com/notebooks/data_table.ipynb>data table notebook</a>'\n",
              "          + ' to learn more about interactive tables.';\n",
              "        element.innerHTML = '';\n",
              "        dataTable['output_type'] = 'display_data';\n",
              "        await google.colab.output.renderOutput(dataTable, element);\n",
              "        const docLink = document.createElement('div');\n",
              "        docLink.innerHTML = docLinkHtml;\n",
              "        element.appendChild(docLink);\n",
              "      }\n",
              "    </script>\n",
              "  </div>\n",
              "\n",
              "\n",
              "<div id=\"df-3c478041-341b-4e16-aec2-03f68202c615\">\n",
              "  <button class=\"colab-df-quickchart\" onclick=\"quickchart('df-3c478041-341b-4e16-aec2-03f68202c615')\"\n",
              "            title=\"Suggest charts\"\n",
              "            style=\"display:none;\">\n",
              "\n",
              "<svg xmlns=\"http://www.w3.org/2000/svg\" height=\"24px\"viewBox=\"0 0 24 24\"\n",
              "     width=\"24px\">\n",
              "    <g>\n",
              "        <path d=\"M19 3H5c-1.1 0-2 .9-2 2v14c0 1.1.9 2 2 2h14c1.1 0 2-.9 2-2V5c0-1.1-.9-2-2-2zM9 17H7v-7h2v7zm4 0h-2V7h2v10zm4 0h-2v-4h2v4z\"/>\n",
              "    </g>\n",
              "</svg>\n",
              "  </button>\n",
              "\n",
              "<style>\n",
              "  .colab-df-quickchart {\n",
              "      --bg-color: #E8F0FE;\n",
              "      --fill-color: #1967D2;\n",
              "      --hover-bg-color: #E2EBFA;\n",
              "      --hover-fill-color: #174EA6;\n",
              "      --disabled-fill-color: #AAA;\n",
              "      --disabled-bg-color: #DDD;\n",
              "  }\n",
              "\n",
              "  [theme=dark] .colab-df-quickchart {\n",
              "      --bg-color: #3B4455;\n",
              "      --fill-color: #D2E3FC;\n",
              "      --hover-bg-color: #434B5C;\n",
              "      --hover-fill-color: #FFFFFF;\n",
              "      --disabled-bg-color: #3B4455;\n",
              "      --disabled-fill-color: #666;\n",
              "  }\n",
              "\n",
              "  .colab-df-quickchart {\n",
              "    background-color: var(--bg-color);\n",
              "    border: none;\n",
              "    border-radius: 50%;\n",
              "    cursor: pointer;\n",
              "    display: none;\n",
              "    fill: var(--fill-color);\n",
              "    height: 32px;\n",
              "    padding: 0;\n",
              "    width: 32px;\n",
              "  }\n",
              "\n",
              "  .colab-df-quickchart:hover {\n",
              "    background-color: var(--hover-bg-color);\n",
              "    box-shadow: 0 1px 2px rgba(60, 64, 67, 0.3), 0 1px 3px 1px rgba(60, 64, 67, 0.15);\n",
              "    fill: var(--button-hover-fill-color);\n",
              "  }\n",
              "\n",
              "  .colab-df-quickchart-complete:disabled,\n",
              "  .colab-df-quickchart-complete:disabled:hover {\n",
              "    background-color: var(--disabled-bg-color);\n",
              "    fill: var(--disabled-fill-color);\n",
              "    box-shadow: none;\n",
              "  }\n",
              "\n",
              "  .colab-df-spinner {\n",
              "    border: 2px solid var(--fill-color);\n",
              "    border-color: transparent;\n",
              "    border-bottom-color: var(--fill-color);\n",
              "    animation:\n",
              "      spin 1s steps(1) infinite;\n",
              "  }\n",
              "\n",
              "  @keyframes spin {\n",
              "    0% {\n",
              "      border-color: transparent;\n",
              "      border-bottom-color: var(--fill-color);\n",
              "      border-left-color: var(--fill-color);\n",
              "    }\n",
              "    20% {\n",
              "      border-color: transparent;\n",
              "      border-left-color: var(--fill-color);\n",
              "      border-top-color: var(--fill-color);\n",
              "    }\n",
              "    30% {\n",
              "      border-color: transparent;\n",
              "      border-left-color: var(--fill-color);\n",
              "      border-top-color: var(--fill-color);\n",
              "      border-right-color: var(--fill-color);\n",
              "    }\n",
              "    40% {\n",
              "      border-color: transparent;\n",
              "      border-right-color: var(--fill-color);\n",
              "      border-top-color: var(--fill-color);\n",
              "    }\n",
              "    60% {\n",
              "      border-color: transparent;\n",
              "      border-right-color: var(--fill-color);\n",
              "    }\n",
              "    80% {\n",
              "      border-color: transparent;\n",
              "      border-right-color: var(--fill-color);\n",
              "      border-bottom-color: var(--fill-color);\n",
              "    }\n",
              "    90% {\n",
              "      border-color: transparent;\n",
              "      border-bottom-color: var(--fill-color);\n",
              "    }\n",
              "  }\n",
              "</style>\n",
              "\n",
              "  <script>\n",
              "    async function quickchart(key) {\n",
              "      const quickchartButtonEl =\n",
              "        document.querySelector('#' + key + ' button');\n",
              "      quickchartButtonEl.disabled = true;  // To prevent multiple clicks.\n",
              "      quickchartButtonEl.classList.add('colab-df-spinner');\n",
              "      try {\n",
              "        const charts = await google.colab.kernel.invokeFunction(\n",
              "            'suggestCharts', [key], {});\n",
              "      } catch (error) {\n",
              "        console.error('Error during call to suggestCharts:', error);\n",
              "      }\n",
              "      quickchartButtonEl.classList.remove('colab-df-spinner');\n",
              "      quickchartButtonEl.classList.add('colab-df-quickchart-complete');\n",
              "    }\n",
              "    (() => {\n",
              "      let quickchartButtonEl =\n",
              "        document.querySelector('#df-3c478041-341b-4e16-aec2-03f68202c615 button');\n",
              "      quickchartButtonEl.style.display =\n",
              "        google.colab.kernel.accessAllowed ? 'block' : 'none';\n",
              "    })();\n",
              "  </script>\n",
              "</div>\n",
              "    </div>\n",
              "  </div>\n"
            ],
            "application/vnd.google.colaboratory.intrinsic+json": {
              "type": "dataframe",
              "variable_name": "df_prediction",
              "summary": "{\n  \"name\": \"df_prediction\",\n  \"rows\": 26535,\n  \"fields\": [\n    {\n      \"column\": \"id\",\n      \"properties\": {\n        \"dtype\": \"string\",\n        \"num_unique_values\": 26535,\n        \"samples\": [\n          \"65acd3d5-8495-4296-8e29-29461b96f197\",\n          \"20049fc3-8aca-4c8c-89a4-5d3aa4dc2de6\",\n          \"3b52bdac-1626-405d-8607-1ac95bd8b468\"\n        ],\n        \"semantic_type\": \"\",\n        \"description\": \"\"\n      }\n    },\n    {\n      \"column\": \"is_canceled\",\n      \"properties\": {\n        \"dtype\": \"number\",\n        \"std\": 0,\n        \"min\": 0,\n        \"max\": 1,\n        \"num_unique_values\": 2,\n        \"samples\": [\n          0,\n          1\n        ],\n        \"semantic_type\": \"\",\n        \"description\": \"\"\n      }\n    }\n  ]\n}"
            }
          },
          "metadata": {},
          "execution_count": 20
        }
      ]
    },
    {
      "cell_type": "code",
      "source": [
        "dataset_hotels_train.to_csv('dataset_hotels_train.csv', index=False)"
      ],
      "metadata": {
        "id": "YwUeZfVQR54u"
      },
      "execution_count": 21,
      "outputs": []
    },
    {
      "cell_type": "code",
      "source": [
        "dataset_hotels_test.to_csv('svm_cv_prediction.csv', index=False)"
      ],
      "metadata": {
        "id": "Ft88iFvfXCOI"
      },
      "execution_count": 22,
      "outputs": []
    },
    {
      "cell_type": "code",
      "execution_count": null,
      "metadata": {
        "colab": {
          "base_uri": "https://localhost:8080/",
          "height": 610
        },
        "id": "_qfIx-JGgZW3",
        "outputId": "83dcc833-1881-40a2-9524-9b9d7ea36ff7"
      },
      "outputs": [
        {
          "name": "stdout",
          "output_type": "stream",
          "text": [
            "              precision    recall  f1-score   support\n",
            "\n",
            "           0       0.74      0.77      0.75      6261\n",
            "           1       0.75      0.72      0.74      6122\n",
            "\n",
            "    accuracy                           0.75     12383\n",
            "   macro avg       0.75      0.75      0.75     12383\n",
            "weighted avg       0.75      0.75      0.75     12383\n",
            "\n"
          ]
        },
        {
          "data": {
            "image/png": "[encoded data removed]",
            "text/plain": [
              "<Figure size 640x480 with 2 Axes>"
            ]
          },
          "metadata": {},
          "output_type": "display_data"
        }
      ],
      "source": [
        "# #Construyo un modelo SVM\n",
        "# svm = SVC()\n",
        "\n",
        "# #Lo entreno con los datos sin escalar\n",
        "# svm.fit(x_train, y_train)\n",
        "\n",
        "# #Hago la prediccion y calculo las métricas\n",
        "# y_pred=svm.predict(x_test)\n",
        "# metricas(y_pred,y_test)"
      ]
    },
    {
      "cell_type": "code",
      "execution_count": 23,
      "metadata": {
        "colab": {
          "base_uri": "https://localhost:8080/",
          "height": 608
        },
        "id": "f7HDMPLNgtaP",
        "outputId": "d72ed429-2894-4020-b885-c1dc574ecaf8"
      },
      "outputs": [
        {
          "output_type": "stream",
          "name": "stdout",
          "text": [
            "              precision    recall  f1-score   support\n",
            "\n",
            "           0       0.86      0.97      0.91      6261\n",
            "           1       0.96      0.84      0.89      6122\n",
            "\n",
            "    accuracy                           0.90     12383\n",
            "   macro avg       0.91      0.90      0.90     12383\n",
            "weighted avg       0.91      0.90      0.90     12383\n",
            "\n"
          ]
        },
        {
          "output_type": "display_data",
          "data": {
            "text/plain": [
              "<Figure size 640x480 with 2 Axes>"
            ],
            "image/png": "[encoded data removed]"
          },
          "metadata": {}
        }
      ],
      "source": [
        "#Construyo un modelo SVM\n",
        "svm_norm= SVC()\n",
        "\n",
        "#Lo entreno con los datos escalados con normalizacion\n",
        "svm_norm.fit(x_train_norm, y_train)\n",
        "\n",
        "#Hago la prediccion y calculo las métricas\n",
        "y_pred_norm=svm_norm.predict(x_test_norm)\n",
        "metricas(y_pred_norm,y_test)"
      ]
    },
    {
      "cell_type": "code",
      "execution_count": 24,
      "metadata": {
        "colab": {
          "base_uri": "https://localhost:8080/",
          "height": 605
        },
        "id": "oSB3KT3ggxy_",
        "outputId": "14736451-a4c0-4f05-ce72-ae30fbae82a3"
      },
      "outputs": [
        {
          "output_type": "stream",
          "name": "stdout",
          "text": [
            "              precision    recall  f1-score   support\n",
            "\n",
            "           0       0.84      0.99      0.91      6261\n",
            "           1       0.99      0.80      0.89      6122\n",
            "\n",
            "    accuracy                           0.90     12383\n",
            "   macro avg       0.91      0.90      0.90     12383\n",
            "weighted avg       0.91      0.90      0.90     12383\n",
            "\n"
          ]
        },
        {
          "output_type": "display_data",
          "data": {
            "text/plain": [
              "<Figure size 640x480 with 2 Axes>"
            ],
            "image/png": "[encoded data removed]"
          },
          "metadata": {}
        }
      ],
      "source": [
        "#Construyo un modelo SVM\n",
        "svm_minmax= SVC()\n",
        "\n",
        "#Lo entreno con los datos escalados con min max\n",
        "svm_minmax.fit(x_train_minmax, y_train)\n",
        "\n",
        "#Hago la prediccion y calculo las métricas\n",
        "y_pred_minmax=svm_minmax.predict(x_test_minmax)\n",
        "metricas(y_pred_minmax,y_test)"
      ]
    },
    {
      "cell_type": "markdown",
      "source": [
        "A partir de ahora lo que hacemos es construir varios clasificadores SVM pero variando el kernel y sus otros hiperparámetros:"
      ],
      "metadata": {
        "id": "LV56V0KMbvdF"
      }
    },
    {
      "cell_type": "code",
      "execution_count": 25,
      "metadata": {
        "colab": {
          "base_uri": "https://localhost:8080/",
          "height": 605
        },
        "id": "XaXaniwSvFqR",
        "outputId": "8132816b-0c7b-4000-b2b9-dccf1f4f30eb"
      },
      "outputs": [
        {
          "output_type": "stream",
          "name": "stdout",
          "text": [
            "              precision    recall  f1-score   support\n",
            "\n",
            "           0       0.84      1.00      0.91      6261\n",
            "           1       0.99      0.80      0.89      6122\n",
            "\n",
            "    accuracy                           0.90     12383\n",
            "   macro avg       0.92      0.90      0.90     12383\n",
            "weighted avg       0.91      0.90      0.90     12383\n",
            "\n"
          ]
        },
        {
          "output_type": "display_data",
          "data": {
            "text/plain": [
              "<Figure size 640x480 with 2 Axes>"
            ],
            "image/png": "[encoded data removed]"
          },
          "metadata": {}
        }
      ],
      "source": [
        "#Creo un clasificador con kernel lineal y lo entreno sobre los datos escalados min-max\n",
        "clf = SVC(kernel='linear', C=1)\n",
        "clf.fit(x_train_minmax, y_train)\n",
        "\n",
        "#Hago la predicción y calculo las métricas\n",
        "y_pred_lin_min_max =clf.predict(x_test_minmax)\n",
        "metricas(y_pred_lin_min_max,y_test)"
      ]
    },
    {
      "cell_type": "code",
      "execution_count": 26,
      "metadata": {
        "colab": {
          "base_uri": "https://localhost:8080/",
          "height": 605
        },
        "id": "V4J_6h_jvF61",
        "outputId": "8a8e0303-1a99-45d8-f256-6d14a146f704"
      },
      "outputs": [
        {
          "output_type": "stream",
          "name": "stdout",
          "text": [
            "              precision    recall  f1-score   support\n",
            "\n",
            "           0       0.89      0.99      0.94      6261\n",
            "           1       0.99      0.88      0.93      6122\n",
            "\n",
            "    accuracy                           0.94     12383\n",
            "   macro avg       0.94      0.94      0.94     12383\n",
            "weighted avg       0.94      0.94      0.94     12383\n",
            "\n"
          ]
        },
        {
          "output_type": "display_data",
          "data": {
            "text/plain": [
              "<Figure size 640x480 with 2 Axes>"
            ],
            "image/png": "[encoded data removed]"
          },
          "metadata": {}
        }
      ],
      "source": [
        "#Creo un clasificador con kernel lineal y lo entreno sobre los datos escalados con normalización\n",
        "clf = SVC(kernel='linear', C=0.5)\n",
        "clf.fit(x_train_norm, y_train)\n",
        "\n",
        "#Hago la predicción y calculo las métricas\n",
        "y_pred_lin_norm =clf.predict(x_test_norm)\n",
        "metricas(y_pred_lin_norm,y_test)"
      ]
    },
    {
      "cell_type": "code",
      "execution_count": 27,
      "metadata": {
        "colab": {
          "base_uri": "https://localhost:8080/",
          "height": 640
        },
        "id": "h0V5yawpwaMz",
        "outputId": "10743ae0-cbba-471c-f84d-94d1e9b18ef8"
      },
      "outputs": [
        {
          "output_type": "stream",
          "name": "stderr",
          "text": [
            "/usr/local/lib/python3.10/dist-packages/sklearn/svm/_base.py:299: ConvergenceWarning: Solver terminated early (max_iter=10000).  Consider pre-processing your data with StandardScaler or MinMaxScaler.\n",
            "  warnings.warn(\n"
          ]
        },
        {
          "output_type": "stream",
          "name": "stdout",
          "text": [
            "              precision    recall  f1-score   support\n",
            "\n",
            "           0       0.95      0.76      0.84      6261\n",
            "           1       0.79      0.96      0.87      6122\n",
            "\n",
            "    accuracy                           0.86     12383\n",
            "   macro avg       0.87      0.86      0.85     12383\n",
            "weighted avg       0.87      0.86      0.85     12383\n",
            "\n"
          ]
        },
        {
          "output_type": "display_data",
          "data": {
            "text/plain": [
              "<Figure size 640x480 with 2 Axes>"
            ],
            "image/png": "[encoded data removed]"
          },
          "metadata": {}
        }
      ],
      "source": [
        "#Creo un clasificador con kernel polinomico y lo entreno sobre los datos escalados min-max\n",
        "clf = SVC(kernel='poly', C=0.5, degree=3, gamma=10, coef0=10,max_iter = 10000, cache_size = 1000)\n",
        "clf.fit(x_train_minmax, y_train)\n",
        "\n",
        "#Hago la predicción y calculo las métricas\n",
        "y_pred_pol_min_max=clf.predict(x_test_minmax)\n",
        "metricas(y_pred_pol_min_max,y_test)"
      ]
    },
    {
      "cell_type": "code",
      "execution_count": 28,
      "metadata": {
        "colab": {
          "base_uri": "https://localhost:8080/",
          "height": 640
        },
        "id": "hHpapxt2wd31",
        "outputId": "4ff8057b-5dca-4344-e850-59f076f58e82"
      },
      "outputs": [
        {
          "output_type": "stream",
          "name": "stderr",
          "text": [
            "/usr/local/lib/python3.10/dist-packages/sklearn/svm/_base.py:299: ConvergenceWarning: Solver terminated early (max_iter=10000).  Consider pre-processing your data with StandardScaler or MinMaxScaler.\n",
            "  warnings.warn(\n"
          ]
        },
        {
          "output_type": "stream",
          "name": "stdout",
          "text": [
            "              precision    recall  f1-score   support\n",
            "\n",
            "           0       0.89      0.49      0.63      6261\n",
            "           1       0.64      0.94      0.76      6122\n",
            "\n",
            "    accuracy                           0.71     12383\n",
            "   macro avg       0.77      0.71      0.70     12383\n",
            "weighted avg       0.77      0.71      0.70     12383\n",
            "\n"
          ]
        },
        {
          "output_type": "display_data",
          "data": {
            "text/plain": [
              "<Figure size 640x480 with 2 Axes>"
            ],
            "image/png": "[encoded data removed]"
          },
          "metadata": {}
        }
      ],
      "source": [
        "#Creo un clasificador con kernel polinomico y lo entreno sobre los datos escalados con normalización\n",
        "clf = SVC(kernel='poly', C=1, degree=2, gamma=10, coef0=10,max_iter = 10000, cache_size = 8000)\n",
        "clf.fit(x_train_norm, y_train)\n",
        "\n",
        "#Hago la predicción y calculo las métricas\n",
        "y_pred_pol_norm=clf.predict(x_test_norm)\n",
        "metricas(y_pred_pol_norm,y_test)"
      ]
    },
    {
      "cell_type": "code",
      "execution_count": 29,
      "metadata": {
        "colab": {
          "base_uri": "https://localhost:8080/",
          "height": 640
        },
        "id": "M1618xUWT2tF",
        "outputId": "56b600c7-f194-4baf-8c92-d79df5b5205f"
      },
      "outputs": [
        {
          "output_type": "stream",
          "name": "stderr",
          "text": [
            "/usr/local/lib/python3.10/dist-packages/sklearn/svm/_base.py:299: ConvergenceWarning: Solver terminated early (max_iter=10000).  Consider pre-processing your data with StandardScaler or MinMaxScaler.\n",
            "  warnings.warn(\n"
          ]
        },
        {
          "output_type": "stream",
          "name": "stdout",
          "text": [
            "              precision    recall  f1-score   support\n",
            "\n",
            "           0       0.87      0.90      0.89      6261\n",
            "           1       0.90      0.87      0.88      6122\n",
            "\n",
            "    accuracy                           0.89     12383\n",
            "   macro avg       0.89      0.89      0.89     12383\n",
            "weighted avg       0.89      0.89      0.89     12383\n",
            "\n"
          ]
        },
        {
          "output_type": "display_data",
          "data": {
            "text/plain": [
              "<Figure size 640x480 with 2 Axes>"
            ],
            "image/png": "[encoded data removed]"
          },
          "metadata": {}
        }
      ],
      "source": [
        "#Creo un clasificador con kernel radial y lo entreno sobre los datos escalados min-max\n",
        "clf = SVC(kernel='rbf', C=5, gamma=10,max_iter = 10000, cache_size = 8000)\n",
        "clf.fit(x_train_minmax, y_train)\n",
        "\n",
        "#Hago la predicción y calculo las métricas\n",
        "y_pred_rad_min_max=clf.predict(x_test_minmax)\n",
        "metricas(y_pred_rad_min_max,y_test)"
      ]
    },
    {
      "cell_type": "code",
      "execution_count": 30,
      "metadata": {
        "colab": {
          "base_uri": "https://localhost:8080/",
          "height": 641
        },
        "id": "btDOsiU3Uqy2",
        "outputId": "6d3c966a-e82b-4ef3-98c0-9b6ff41fbd78"
      },
      "outputs": [
        {
          "output_type": "stream",
          "name": "stderr",
          "text": [
            "/usr/local/lib/python3.10/dist-packages/sklearn/svm/_base.py:299: ConvergenceWarning: Solver terminated early (max_iter=10000).  Consider pre-processing your data with StandardScaler or MinMaxScaler.\n",
            "  warnings.warn(\n"
          ]
        },
        {
          "output_type": "stream",
          "name": "stdout",
          "text": [
            "              precision    recall  f1-score   support\n",
            "\n",
            "           0       0.62      0.97      0.76      6261\n",
            "           1       0.93      0.40      0.56      6122\n",
            "\n",
            "    accuracy                           0.69     12383\n",
            "   macro avg       0.78      0.69      0.66     12383\n",
            "weighted avg       0.77      0.69      0.66     12383\n",
            "\n"
          ]
        },
        {
          "output_type": "display_data",
          "data": {
            "text/plain": [
              "<Figure size 640x480 with 2 Axes>"
            ],
            "image/png": "[encoded data removed]"
          },
          "metadata": {}
        }
      ],
      "source": [
        "#Creo un clasificador con kernel radial y lo entreno sobre los datos escalados con normalización\n",
        "clf = SVC(kernel='rbf', C=5, gamma=10,max_iter = 10000, cache_size = 8000)\n",
        "clf.fit(x_train_norm, y_train)\n",
        "\n",
        "#Hago la predicción y calculo las métricas\n",
        "y_pred_rad_norm=clf.predict(x_test_norm)\n",
        "metricas(y_pred_rad_norm,y_test)"
      ]
    },
    {
      "cell_type": "markdown",
      "source": [
        "##Mejor Resultado -> Kaggle"
      ],
      "metadata": {
        "id": "heSTuD4zqY7i"
      }
    },
    {
      "cell_type": "code",
      "execution_count": 31,
      "metadata": {
        "id": "toFmup9Am6tF",
        "colab": {
          "base_uri": "https://localhost:8080/",
          "height": 605
        },
        "outputId": "4bc642d3-1cc9-4359-b07f-4035a6dd15ac"
      },
      "outputs": [
        {
          "output_type": "stream",
          "name": "stdout",
          "text": [
            "              precision    recall  f1-score   support\n",
            "\n",
            "           0       0.89      0.99      0.94      6261\n",
            "           1       0.99      0.88      0.93      6122\n",
            "\n",
            "    accuracy                           0.94     12383\n",
            "   macro avg       0.94      0.94      0.94     12383\n",
            "weighted avg       0.94      0.94      0.94     12383\n",
            "\n"
          ]
        },
        {
          "output_type": "display_data",
          "data": {
            "text/plain": [
              "<Figure size 640x480 with 2 Axes>"
            ],
            "image/png": "[encoded data removed]"
          },
          "metadata": {}
        }
      ],
      "source": [
        "#Creo un clasificador con kernel lineal y lo entreno sobre los datos escalados con normalización\n",
        "clf = SVC(kernel='linear', C=0.5)\n",
        "clf.fit(x_train_norm, y_train)\n",
        "\n",
        "#Hago la predicción y calculo las métricas\n",
        "y_pred_lin_norm =clf.predict(x_test_norm)\n",
        "metricas(y_pred_lin_norm,y_test)"
      ]
    },
    {
      "cell_type": "code",
      "execution_count": 32,
      "metadata": {
        "id": "GHnTK3zMm8JB"
      },
      "outputs": [],
      "source": [
        "y_result_svc = clf.predict(min_max_scaler.transform(dataset_hotels_test.values))"
      ]
    },
    {
      "cell_type": "code",
      "source": [
        "df_prediction_svm = pd.DataFrame(zip(dataset_hotels_test_id,y_result_svc)).rename(columns={0: \"id\", 1: \"is_canceled\"})"
      ],
      "metadata": {
        "id": "N-gUcfW4qrWI"
      },
      "execution_count": 33,
      "outputs": []
    },
    {
      "cell_type": "code",
      "execution_count": 34,
      "metadata": {
        "id": "OyeNeSiHnFRp"
      },
      "outputs": [],
      "source": [
        "df_prediction_svm.to_csv('svc_prediction.csv', index=False)"
      ]
    }
  ],
  "metadata": {
    "colab": {
      "provenance": []
    },
    "kernelspec": {
      "display_name": "Python 3",
      "name": "python3"
    },
    "language_info": {
      "name": "python"
    }
  },
  "nbformat": 4,
  "nbformat_minor": 0
}